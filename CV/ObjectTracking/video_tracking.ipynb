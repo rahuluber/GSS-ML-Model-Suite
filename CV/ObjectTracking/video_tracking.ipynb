{
 "cells": [
  {
   "cell_type": "code",
   "execution_count": null,
   "metadata": {},
   "outputs": [],
   "source": [
    "from video_track import *"
   ]
  },
  {
   "cell_type": "code",
   "execution_count": null,
   "metadata": {},
   "outputs": [],
   "source": [
    "import os\n",
    "import wget\n",
    "\n",
    "if not os.path.isfile('yolov3.weights'):\n",
    "    url = 'https://pjreddie.com/media/files/yolov3.weights'\n",
    "    f_name = wget.download(url)"
   ]
  },
  {
   "cell_type": "code",
   "execution_count": null,
   "metadata": {},
   "outputs": [],
   "source": [
    "config_path='config/yolov3.cfg'\n",
    "weights_path='yolov3.weights'\n",
    "class_path='config/coco.names'\n",
    "conf_thres=0.8\n",
    "nms_thres=0.4\n",
    "\n",
    "tracker = track_video(config_path,weights_path,class_path,conf_thres,nms_thres)"
   ]
  },
  {
   "cell_type": "code",
   "execution_count": null,
   "metadata": {},
   "outputs": [],
   "source": [
    "videopath = 'video_poc.mp4'\n",
    "save_path = 'result_poc.mp4'\n",
    "sort_max_age = 10 \n",
    "sort_min_hits = 5\n",
    "thicknss = 2\n",
    "\n",
    "tracker.run(videopath, save_path,sort_max_age,sort_min_hits,thicknss,frame_cons=100000)"
   ]
  },
  {
   "cell_type": "code",
   "execution_count": null,
   "metadata": {},
   "outputs": [],
   "source": []
  }
 ],
 "metadata": {
  "kernelspec": {
   "display_name": "01. Python 3.7 (General DS)",
   "language": "python",
   "name": "python37"
  },
  "language_info": {
   "codemirror_mode": {
    "name": "ipython",
    "version": 3
   },
   "file_extension": ".py",
   "mimetype": "text/x-python",
   "name": "python",
   "nbconvert_exporter": "python",
   "pygments_lexer": "ipython3",
   "version": "3.7.12"
  }
 },
 "nbformat": 4,
 "nbformat_minor": 2
}

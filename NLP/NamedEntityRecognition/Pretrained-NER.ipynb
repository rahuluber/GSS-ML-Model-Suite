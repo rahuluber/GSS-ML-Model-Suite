{
 "cells": [
  {
   "cell_type": "markdown",
   "metadata": {},
   "source": [
    "### Model description\n",
    "#### bert-base-NER\n",
    "<br>bert-base-NER is a fine-tuned BERT model that is ready to use for Named Entity Recognition and achieves state-of-the-art performance for the NER task. It has been trained to recognize four types of entities: location (LOC), organizations (ORG), person (PER) and Miscellaneous (MISC).\n",
    "#### xlm-roberta-large-ner-hrl\n",
    "<br>xlm-roberta-large-ner-hrl is a Named Entity Recognition model for 10 high resourced languages (Arabic, German, English, Spanish, French, Italian, Latvian, Dutch, Portuguese and Chinese) based on a fine-tuned XLM-RoBERTa large model.\n",
    "### Labels\n",
    "<br>This model was fine-tuned on English version of the standard CoNLL-2003 Named Entity Recognition dataset.\n",
    "<br>The training dataset distinguishes between the beginning and continuation of an entity so that if there are back-to-back entities of the same type, the model can output where the second entity begins. As in the dataset, each token will be classified as one of the following classes:\n",
    "<br>Abbreviation\tDescription\n",
    "<br>O\tOutside of a named entity\n",
    "<br>B-MIS\tBeginning of a miscellaneous entity right after another miscellaneous entity\n",
    "<br>I-MIS\tMiscellaneous entity\n",
    "<br>B-PER\tBeginning of a person’s name right after another person’s name\n",
    "<br>I-PER\tPerson’s name\n",
    "<br>B-ORG\tBeginning of an organization right after another organization\n",
    "<br>I-ORG\torganization\n",
    "<br>B-LOC\tBeginning of a location right after another location\n",
    "<br>I-LOC\tLocation"
   ]
  },
  {
   "cell_type": "markdown",
   "metadata": {},
   "source": [
    "### Step - 1 Load Pretrained Model"
   ]
  },
  {
   "cell_type": "code",
   "execution_count": 1,
   "metadata": {},
   "outputs": [],
   "source": [
    "model = \"roberta\" #\"roberta\" or \"bert-base\""
   ]
  },
  {
   "cell_type": "code",
   "execution_count": 2,
   "metadata": {},
   "outputs": [
    {
     "name": "stderr",
     "output_type": "stream",
     "text": [
      "/dsw/snapshots/snapshot_dsw_default_jupyter/python37/lib/python3.7/site-packages/sklearn/utils/validation.py:37: DeprecationWarning: distutils Version classes are deprecated. Use packaging.version instead.\n",
      "  LARGE_SPARSE_SUPPORTED = LooseVersion(scipy_version) >= '0.14.0'\n"
     ]
    }
   ],
   "source": [
    "#imports\n",
    "import pandas\n",
    "import pprint\n",
    "from transformers import AutoTokenizer, AutoModelForTokenClassification\n",
    "from transformers import pipeline"
   ]
  },
  {
   "cell_type": "code",
   "execution_count": 3,
   "metadata": {},
   "outputs": [],
   "source": [
    "def get_pipeline(model):\n",
    "    model_dict = {\n",
    "                    \"roberta\":\"Davlan/xlm-roberta-large-ner-hrl\",\n",
    "                    \"bert-base\":\"dslim/bert-base-NER\"\n",
    "                 }\n",
    "    #Tokens & Model initialisation\n",
    "    tokenizer = AutoTokenizer.from_pretrained(model_dict[model])\n",
    "    model = AutoModelForTokenClassification.from_pretrained(model_dict[model])\n",
    "\n",
    "    #Pipeline for inference\n",
    "    nlp = pipeline(\"ner\", model=model, tokenizer=tokenizer)\n",
    "    return nlp"
   ]
  },
  {
   "cell_type": "markdown",
   "metadata": {},
   "source": [
    "### Loading Dataset"
   ]
  },
  {
   "cell_type": "code",
   "execution_count": 4,
   "metadata": {},
   "outputs": [],
   "source": [
    "data = pandas.read_csv('./demo.csv')['sentences']"
   ]
  },
  {
   "cell_type": "markdown",
   "metadata": {},
   "source": [
    "### Inference"
   ]
  },
  {
   "cell_type": "code",
   "execution_count": 5,
   "metadata": {},
   "outputs": [],
   "source": [
    "nlp = get_pipeline(model)\n",
    "output = {}\n",
    "for sent in data:\n",
    "    output[sent] = nlp(sent)"
   ]
  },
  {
   "cell_type": "markdown",
   "metadata": {},
   "source": [
    "### Output"
   ]
  },
  {
   "cell_type": "code",
   "execution_count": 6,
   "metadata": {},
   "outputs": [
    {
     "name": "stdout",
     "output_type": "stream",
     "text": [
      "{'A large grey cat was asleep on a rocking chair.': [],\n",
      " 'I did not ask the American Medical Association their opinion of this arrangement.': [{'end': 26,\n",
      "                                                                                        'entity': 'B-ORG',\n",
      "                                                                                        'index': 6,\n",
      "                                                                                        'score': 0.99999094,\n",
      "                                                                                        'start': 17,\n",
      "                                                                                        'word': '▁American'},\n",
      "                                                                                       {'end': 34,\n",
      "                                                                                        'entity': 'I-ORG',\n",
      "                                                                                        'index': 7,\n",
      "                                                                                        'score': 0.9999757,\n",
      "                                                                                        'start': 26,\n",
      "                                                                                        'word': '▁Medical'},\n",
      "                                                                                       {'end': 46,\n",
      "                                                                                        'entity': 'I-ORG',\n",
      "                                                                                        'index': 8,\n",
      "                                                                                        'score': 0.99996614,\n",
      "                                                                                        'start': 34,\n",
      "                                                                                        'word': '▁Association'}],\n",
      " 'I spent the day at the medical facility.': [],\n",
      " 'I think the cat wants dessert!': [],\n",
      " 'Im in no mood to watch a cat fight tonight.': [],\n",
      " 'She drew nearer, eyes sweeping over the medical equipment in the room.': [],\n",
      " 'That a cultured medical genius found her inspiring was beyond flattering.': [],\n",
      " 'The cat would like to eat the mouse.': [],\n",
      " 'The pilot was able to land the airplane': []}\n"
     ]
    }
   ],
   "source": [
    "import pprint\n",
    "pprint.pprint(output)"
   ]
  },
  {
   "cell_type": "markdown",
   "metadata": {},
   "source": [
    "Refenence\n",
    "<br> https://huggingface.co/dslim/bert-base-NER?text=My+name+is+Wolfgang+and+I+live+in+Berlin\n",
    "<br> https://huggingface.co/Davlan/xlm-roberta-large-ner-hrl?text=%D8%A5%D8%B3%D9%85%D9%8A+%D8%B3%D8%A7%D9%85%D9%8A+%D9%88%D8%A3%D8%B3%D9%83%D9%86+%D9%81%D9%8A+%D8%A7%D9%84%D9%82%D8%AF%D8%B3+%D9%81%D9%8A+%D9%81%D9%84%D8%B3%D8%B7%D9%8A%D9%86."
   ]
  },
  {
   "cell_type": "code",
   "execution_count": null,
   "metadata": {},
   "outputs": [],
   "source": []
  }
 ],
 "metadata": {
  "kernelspec": {
   "display_name": "01. Python 3.7 (General DS)",
   "language": "python",
   "name": "python37"
  },
  "language_info": {
   "codemirror_mode": {
    "name": "ipython",
    "version": 3
   },
   "file_extension": ".py",
   "mimetype": "text/x-python",
   "name": "python",
   "nbconvert_exporter": "python",
   "pygments_lexer": "ipython3",
   "version": "3.7.12"
  }
 },
 "nbformat": 4,
 "nbformat_minor": 2
}

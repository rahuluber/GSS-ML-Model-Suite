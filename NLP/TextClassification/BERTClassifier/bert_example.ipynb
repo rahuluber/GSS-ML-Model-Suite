{
 "cells": [
  {
   "cell_type": "code",
   "execution_count": null,
   "metadata": {},
   "outputs": [],
   "source": [
    "from BERT_train import BERT_Model\n",
    "import pandas as pd\n",
    "\n",
    "#\"BERT_train.py\" file should be on the same directory with this file\n",
    "train_df = pd.read_csv('train_data.csv') #should have \"input\" and \"target\" coolumn\n",
    "val_df = pd.read_csv('train_data.csv') #should have \"input\" and \"target\" coolumn\n",
    "\n",
    "BERT_Model(train_df,val_df,EPOCHS=20)"
   ]
  }
 ],
 "metadata": {
  "kernelspec": {
   "display_name": "02. Python 3.6 (General DS)",
   "language": "python",
   "name": "python3"
  },
  "language_info": {
   "codemirror_mode": {
    "name": "ipython",
    "version": 3
   },
   "file_extension": ".py",
   "mimetype": "text/x-python",
   "name": "python",
   "nbconvert_exporter": "python",
   "pygments_lexer": "ipython3",
   "version": "3.6.4"
  }
 },
 "nbformat": 4,
 "nbformat_minor": 2
}

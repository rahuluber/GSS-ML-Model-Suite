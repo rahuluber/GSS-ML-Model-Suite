{
 "cells": [
  {
   "cell_type": "code",
   "execution_count": 1,
   "metadata": {},
   "outputs": [],
   "source": [
    "from video_track import *"
   ]
  },
  {
   "cell_type": "code",
   "execution_count": 2,
   "metadata": {},
   "outputs": [],
   "source": [
    "import os\n",
    "import wget\n",
    "\n",
    "if not os.path.isfile('yolov3.weights'):\n",
    "    url = 'https://pjreddie.com/media/files/yolov3.weights'\n",
    "    f_name = wget.download(url)"
   ]
  },
  {
   "cell_type": "code",
   "execution_count": 3,
   "metadata": {},
   "outputs": [
    {
     "name": "stderr",
     "output_type": "stream",
     "text": [
      "/dsw/snapshots/snapshot_dsw_default_jupyter/python3/lib/python3.6/site-packages/torch/nn/_reduction.py:42: UserWarning: size_average and reduce args will be deprecated, please use reduction='mean' instead.\n",
      "  warnings.warn(warning.format(ret))\n"
     ]
    }
   ],
   "source": [
    "config_path='config/yolov3.cfg'\n",
    "weights_path='yolov3.weights'\n",
    "class_path='config/coco.names'\n",
    "conf_thres=0.8\n",
    "nms_thres=0.4\n",
    "\n",
    "tracker = track_video(config_path,weights_path,class_path,conf_thres,nms_thres)"
   ]
  },
  {
   "cell_type": "code",
   "execution_count": 4,
   "metadata": {},
   "outputs": [
    {
     "name": "stderr",
     "output_type": "stream",
     "text": [
      "  0%|          | 1/889 [00:00<08:27,  1.75it/s]/mnt/cephfs/hadoop-compute/phoenix/kpraja4/Code_Samples/model/Tracking/utils/sort.py:27: NumbaWarning: \u001b[1m\n",
      "Compilation is falling back to object mode WITH looplifting enabled because Function \"iou\" failed type inference due to: \u001b[1m\u001b[1mnon-precise type pyobject\u001b[0m\n",
      "\u001b[0m\u001b[1mDuring: typing of argument at /mnt/cephfs/hadoop-compute/phoenix/kpraja4/Code_Samples/model/Tracking/utils/sort.py (32)\u001b[0m\n",
      "\u001b[1m\n",
      "File \"utils/sort.py\", line 32:\u001b[0m\n",
      "\u001b[1mdef iou(bb_test,bb_gt):\n",
      "    <source elided>\n",
      "    \"\"\"\n",
      "\u001b[1m    xx1 = np.maximum(bb_test[0], bb_gt[0])\n",
      "\u001b[0m    \u001b[1m^\u001b[0m\u001b[0m\n",
      "\u001b[0m\n",
      "  @jit\n",
      "/dsw/snapshots/snapshot_dsw_default_jupyter/python3/lib/python3.6/site-packages/numba/core/object_mode_passes.py:152: NumbaWarning: \u001b[1mFunction \"iou\" was compiled in object mode without forceobj=True.\n",
      "\u001b[1m\n",
      "File \"utils/sort.py\", line 28:\u001b[0m\n",
      "\u001b[1m@jit\n",
      "\u001b[1mdef iou(bb_test,bb_gt):\n",
      "\u001b[0m\u001b[1m^\u001b[0m\u001b[0m\n",
      "\u001b[0m\n",
      "  state.func_ir.loc))\n",
      "/dsw/snapshots/snapshot_dsw_default_jupyter/python3/lib/python3.6/site-packages/numba/core/object_mode_passes.py:162: NumbaDeprecationWarning: \u001b[1m\n",
      "Fall-back from the nopython compilation path to the object mode compilation path has been detected, this is deprecated behaviour.\n",
      "\n",
      "For more information visit https://numba.pydata.org/numba-doc/latest/reference/deprecation.html#deprecation-of-object-mode-fall-back-behaviour-when-using-jit\n",
      "\u001b[1m\n",
      "File \"utils/sort.py\", line 28:\u001b[0m\n",
      "\u001b[1m@jit\n",
      "\u001b[1mdef iou(bb_test,bb_gt):\n",
      "\u001b[0m\u001b[1m^\u001b[0m\u001b[0m\n",
      "\u001b[0m\n",
      "  state.func_ir.loc))\n",
      "100%|█████████▉| 886/889 [02:05<00:00,  7.08it/s]"
     ]
    },
    {
     "name": "stdout",
     "output_type": "stream",
     "text": [
      "Video tracking result has been saved successfully at result_poc.mp4\n"
     ]
    },
    {
     "name": "stderr",
     "output_type": "stream",
     "text": [
      "\n"
     ]
    },
    {
     "data": {
      "text/html": [
       "<div>\n",
       "<style scoped>\n",
       "    .dataframe tbody tr th:only-of-type {\n",
       "        vertical-align: middle;\n",
       "    }\n",
       "\n",
       "    .dataframe tbody tr th {\n",
       "        vertical-align: top;\n",
       "    }\n",
       "\n",
       "    .dataframe thead th {\n",
       "        text-align: right;\n",
       "    }\n",
       "</style>\n",
       "<table border=\"1\" class=\"dataframe\">\n",
       "  <thead>\n",
       "    <tr style=\"text-align: right;\">\n",
       "      <th></th>\n",
       "      <th>Class</th>\n",
       "      <th>Frame</th>\n",
       "      <th>OBJ_ID</th>\n",
       "      <th>X1</th>\n",
       "      <th>X2</th>\n",
       "      <th>Y1</th>\n",
       "      <th>Y2</th>\n",
       "    </tr>\n",
       "  </thead>\n",
       "  <tbody>\n",
       "    <tr>\n",
       "      <th>0</th>\n",
       "      <td>[truck, car, car, car]</td>\n",
       "      <td>0.0</td>\n",
       "      <td>[4, 3, 2, 1]</td>\n",
       "      <td>[2050, 1657, 1233, 1763]</td>\n",
       "      <td>[2265, 1859, 1325, 2015]</td>\n",
       "      <td>[1252, 1226, 847, 1491]</td>\n",
       "      <td>[1515, 1428, 925, 1691]</td>\n",
       "    </tr>\n",
       "    <tr>\n",
       "      <th>1</th>\n",
       "      <td>[truck, car, car, car]</td>\n",
       "      <td>1.0</td>\n",
       "      <td>[4, 3, 2, 1]</td>\n",
       "      <td>[2050, 1657, 1233, 1763]</td>\n",
       "      <td>[2265, 1859, 1325, 2015]</td>\n",
       "      <td>[1252, 1226, 847, 1491]</td>\n",
       "      <td>[1515, 1428, 925, 1691]</td>\n",
       "    </tr>\n",
       "    <tr>\n",
       "      <th>2</th>\n",
       "      <td>[truck, car, car, car]</td>\n",
       "      <td>2.0</td>\n",
       "      <td>[4, 3, 2, 1]</td>\n",
       "      <td>[2048, 1660, 1232, 1757]</td>\n",
       "      <td>[2259, 1857, 1326, 2020]</td>\n",
       "      <td>[1243, 1221, 848, 1481]</td>\n",
       "      <td>[1511, 1419, 927, 1697]</td>\n",
       "    </tr>\n",
       "    <tr>\n",
       "      <th>3</th>\n",
       "      <td>[truck, car, car, car]</td>\n",
       "      <td>3.0</td>\n",
       "      <td>[4, 3, 2, 1]</td>\n",
       "      <td>[2048, 1660, 1232, 1755]</td>\n",
       "      <td>[2258, 1855, 1326, 2021]</td>\n",
       "      <td>[1241, 1221, 848, 1478]</td>\n",
       "      <td>[1512, 1418, 928, 1700]</td>\n",
       "    </tr>\n",
       "    <tr>\n",
       "      <th>4</th>\n",
       "      <td>[truck, car, car, car]</td>\n",
       "      <td>4.0</td>\n",
       "      <td>[4, 3, 2, 1]</td>\n",
       "      <td>[2048, 1659, 1230, 1749]</td>\n",
       "      <td>[2248, 1851, 1326, 2006]</td>\n",
       "      <td>[1247, 1216, 847, 1474]</td>\n",
       "      <td>[1503, 1412, 929, 1691]</td>\n",
       "    </tr>\n",
       "  </tbody>\n",
       "</table>\n",
       "</div>"
      ],
      "text/plain": [
       "                    Class  Frame        OBJ_ID                        X1  \\\n",
       "0  [truck, car, car, car]    0.0  [4, 3, 2, 1]  [2050, 1657, 1233, 1763]   \n",
       "1  [truck, car, car, car]    1.0  [4, 3, 2, 1]  [2050, 1657, 1233, 1763]   \n",
       "2  [truck, car, car, car]    2.0  [4, 3, 2, 1]  [2048, 1660, 1232, 1757]   \n",
       "3  [truck, car, car, car]    3.0  [4, 3, 2, 1]  [2048, 1660, 1232, 1755]   \n",
       "4  [truck, car, car, car]    4.0  [4, 3, 2, 1]  [2048, 1659, 1230, 1749]   \n",
       "\n",
       "                         X2                       Y1                       Y2  \n",
       "0  [2265, 1859, 1325, 2015]  [1252, 1226, 847, 1491]  [1515, 1428, 925, 1691]  \n",
       "1  [2265, 1859, 1325, 2015]  [1252, 1226, 847, 1491]  [1515, 1428, 925, 1691]  \n",
       "2  [2259, 1857, 1326, 2020]  [1243, 1221, 848, 1481]  [1511, 1419, 927, 1697]  \n",
       "3  [2258, 1855, 1326, 2021]  [1241, 1221, 848, 1478]  [1512, 1418, 928, 1700]  \n",
       "4  [2248, 1851, 1326, 2006]  [1247, 1216, 847, 1474]  [1503, 1412, 929, 1691]  "
      ]
     },
     "execution_count": 4,
     "metadata": {},
     "output_type": "execute_result"
    }
   ],
   "source": [
    "videopath = 'video_poc.mp4'\n",
    "save_path = 'result_poc.mp4'\n",
    "sort_max_age = 10 \n",
    "sort_min_hits = 5\n",
    "thicknss = 2\n",
    "\n",
    "logger, fps = tracker.run(videopath, save_path,sort_max_age,sort_min_hits,thicknss,frame_cons=100000)\n",
    "logger.head()"
   ]
  },
  {
   "cell_type": "code",
   "execution_count": 5,
   "metadata": {},
   "outputs": [
    {
     "data": {
      "text/plain": [
       "58.679867986798676"
      ]
     },
     "execution_count": 5,
     "metadata": {},
     "output_type": "execute_result"
    }
   ],
   "source": [
    "fps"
   ]
  },
  {
   "cell_type": "code",
   "execution_count": null,
   "metadata": {},
   "outputs": [],
   "source": []
  }
 ],
 "metadata": {
  "kernelspec": {
   "display_name": "02. Python 3.6 (General DS)",
   "language": "python",
   "name": "python3"
  },
  "language_info": {
   "codemirror_mode": {
    "name": "ipython",
    "version": 3
   },
   "file_extension": ".py",
   "mimetype": "text/x-python",
   "name": "python",
   "nbconvert_exporter": "python",
   "pygments_lexer": "ipython3",
   "version": "3.6.4"
  }
 },
 "nbformat": 4,
 "nbformat_minor": 2
}
